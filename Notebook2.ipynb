{
 "cells": [
  {
   "cell_type": "code",
   "execution_count": null,
   "id": "01e3487f",
   "metadata": {},
   "outputs": [],
   "source": [
    "import pandas as pd\n",
    "import numpy as np\n",
    "from matplotlib import pyplot as plt\n",
    "import seaborn as sns\n",
    "import torch\n",
    "\n",
    "plt.style.use('ggplot')"
   ]
  },
  {
   "cell_type": "code",
   "execution_count": 2,
   "id": "ccf5ea8b",
   "metadata": {},
   "outputs": [
    {
     "name": "stderr",
     "output_type": "stream",
     "text": [
      "C:\\Users\\wifqo\\AppData\\Local\\Temp\\ipykernel_33116\\806621523.py:1: DtypeWarning: Columns (6) have mixed types. Specify dtype option on import or set low_memory=False.\n",
      "  df = pd.read_csv('btcusd_1-min_data.csv')\n"
     ]
    }
   ],
   "source": [
    "df = pd.read_csv('btcusd_1-min_data.csv')"
   ]
  },
  {
   "cell_type": "markdown",
   "id": "5ed089ed",
   "metadata": {},
   "source": [
    "## Exploratory Data Analysis"
   ]
  },
  {
   "cell_type": "code",
   "execution_count": 3,
   "id": "e8fbcdef",
   "metadata": {},
   "outputs": [
    {
     "data": {
      "text/html": [
       "<div>\n",
       "<style scoped>\n",
       "    .dataframe tbody tr th:only-of-type {\n",
       "        vertical-align: middle;\n",
       "    }\n",
       "\n",
       "    .dataframe tbody tr th {\n",
       "        vertical-align: top;\n",
       "    }\n",
       "\n",
       "    .dataframe thead th {\n",
       "        text-align: right;\n",
       "    }\n",
       "</style>\n",
       "<table border=\"1\" class=\"dataframe\">\n",
       "  <thead>\n",
       "    <tr style=\"text-align: right;\">\n",
       "      <th></th>\n",
       "      <th>Timestamp</th>\n",
       "      <th>Open</th>\n",
       "      <th>High</th>\n",
       "      <th>Low</th>\n",
       "      <th>Close</th>\n",
       "      <th>Volume</th>\n",
       "      <th>datetime</th>\n",
       "    </tr>\n",
       "  </thead>\n",
       "  <tbody>\n",
       "    <tr>\n",
       "      <th>0</th>\n",
       "      <td>1.325412e+09</td>\n",
       "      <td>4.58</td>\n",
       "      <td>4.58</td>\n",
       "      <td>4.58</td>\n",
       "      <td>4.58</td>\n",
       "      <td>0.0</td>\n",
       "      <td>2012-01-01 10:01:00+00:00</td>\n",
       "    </tr>\n",
       "    <tr>\n",
       "      <th>1</th>\n",
       "      <td>1.325412e+09</td>\n",
       "      <td>4.58</td>\n",
       "      <td>4.58</td>\n",
       "      <td>4.58</td>\n",
       "      <td>4.58</td>\n",
       "      <td>0.0</td>\n",
       "      <td>2012-01-01 10:02:00+00:00</td>\n",
       "    </tr>\n",
       "    <tr>\n",
       "      <th>2</th>\n",
       "      <td>1.325412e+09</td>\n",
       "      <td>4.58</td>\n",
       "      <td>4.58</td>\n",
       "      <td>4.58</td>\n",
       "      <td>4.58</td>\n",
       "      <td>0.0</td>\n",
       "      <td>2012-01-01 10:03:00+00:00</td>\n",
       "    </tr>\n",
       "    <tr>\n",
       "      <th>3</th>\n",
       "      <td>1.325412e+09</td>\n",
       "      <td>4.58</td>\n",
       "      <td>4.58</td>\n",
       "      <td>4.58</td>\n",
       "      <td>4.58</td>\n",
       "      <td>0.0</td>\n",
       "      <td>2012-01-01 10:04:00+00:00</td>\n",
       "    </tr>\n",
       "    <tr>\n",
       "      <th>4</th>\n",
       "      <td>1.325412e+09</td>\n",
       "      <td>4.58</td>\n",
       "      <td>4.58</td>\n",
       "      <td>4.58</td>\n",
       "      <td>4.58</td>\n",
       "      <td>0.0</td>\n",
       "      <td>2012-01-01 10:05:00+00:00</td>\n",
       "    </tr>\n",
       "  </tbody>\n",
       "</table>\n",
       "</div>"
      ],
      "text/plain": [
       "      Timestamp  Open  High   Low  Close  Volume                   datetime\n",
       "0  1.325412e+09  4.58  4.58  4.58   4.58     0.0  2012-01-01 10:01:00+00:00\n",
       "1  1.325412e+09  4.58  4.58  4.58   4.58     0.0  2012-01-01 10:02:00+00:00\n",
       "2  1.325412e+09  4.58  4.58  4.58   4.58     0.0  2012-01-01 10:03:00+00:00\n",
       "3  1.325412e+09  4.58  4.58  4.58   4.58     0.0  2012-01-01 10:04:00+00:00\n",
       "4  1.325412e+09  4.58  4.58  4.58   4.58     0.0  2012-01-01 10:05:00+00:00"
      ]
     },
     "execution_count": 3,
     "metadata": {},
     "output_type": "execute_result"
    }
   ],
   "source": [
    "df.head()"
   ]
  },
  {
   "cell_type": "code",
   "execution_count": 4,
   "id": "ff385a51",
   "metadata": {},
   "outputs": [],
   "source": [
    "# Convert the 'Date' column to datetime format\n",
    "df['datetime'] = pd.to_datetime(df['datetime'])"
   ]
  },
  {
   "cell_type": "code",
   "execution_count": 5,
   "id": "afc03646",
   "metadata": {},
   "outputs": [
    {
     "data": {
      "text/html": [
       "<div>\n",
       "<style scoped>\n",
       "    .dataframe tbody tr th:only-of-type {\n",
       "        vertical-align: middle;\n",
       "    }\n",
       "\n",
       "    .dataframe tbody tr th {\n",
       "        vertical-align: top;\n",
       "    }\n",
       "\n",
       "    .dataframe thead th {\n",
       "        text-align: right;\n",
       "    }\n",
       "</style>\n",
       "<table border=\"1\" class=\"dataframe\">\n",
       "  <thead>\n",
       "    <tr style=\"text-align: right;\">\n",
       "      <th></th>\n",
       "      <th>Timestamp</th>\n",
       "      <th>Open</th>\n",
       "      <th>High</th>\n",
       "      <th>Low</th>\n",
       "      <th>Close</th>\n",
       "      <th>Volume</th>\n",
       "    </tr>\n",
       "  </thead>\n",
       "  <tbody>\n",
       "    <tr>\n",
       "      <th>count</th>\n",
       "      <td>7.008205e+06</td>\n",
       "      <td>7.008205e+06</td>\n",
       "      <td>7.008205e+06</td>\n",
       "      <td>7.008205e+06</td>\n",
       "      <td>7.008205e+06</td>\n",
       "      <td>7.008205e+06</td>\n",
       "    </tr>\n",
       "    <tr>\n",
       "      <th>mean</th>\n",
       "      <td>1.535659e+09</td>\n",
       "      <td>1.737403e+04</td>\n",
       "      <td>1.738098e+04</td>\n",
       "      <td>1.736687e+04</td>\n",
       "      <td>1.737403e+04</td>\n",
       "      <td>5.303707e+00</td>\n",
       "    </tr>\n",
       "    <tr>\n",
       "      <th>std</th>\n",
       "      <td>1.213868e+08</td>\n",
       "      <td>2.401468e+04</td>\n",
       "      <td>2.402270e+04</td>\n",
       "      <td>2.400646e+04</td>\n",
       "      <td>2.401466e+04</td>\n",
       "      <td>2.252397e+01</td>\n",
       "    </tr>\n",
       "    <tr>\n",
       "      <th>min</th>\n",
       "      <td>1.325412e+09</td>\n",
       "      <td>3.800000e+00</td>\n",
       "      <td>3.800000e+00</td>\n",
       "      <td>3.800000e+00</td>\n",
       "      <td>3.800000e+00</td>\n",
       "      <td>0.000000e+00</td>\n",
       "    </tr>\n",
       "    <tr>\n",
       "      <th>25%</th>\n",
       "      <td>1.430535e+09</td>\n",
       "      <td>4.242000e+02</td>\n",
       "      <td>4.243500e+02</td>\n",
       "      <td>4.240300e+02</td>\n",
       "      <td>4.242000e+02</td>\n",
       "      <td>1.814380e-02</td>\n",
       "    </tr>\n",
       "    <tr>\n",
       "      <th>50%</th>\n",
       "      <td>1.535658e+09</td>\n",
       "      <td>6.587830e+03</td>\n",
       "      <td>6.590610e+03</td>\n",
       "      <td>6.584380e+03</td>\n",
       "      <td>6.587800e+03</td>\n",
       "      <td>4.692601e-01</td>\n",
       "    </tr>\n",
       "    <tr>\n",
       "      <th>75%</th>\n",
       "      <td>1.640781e+09</td>\n",
       "      <td>2.726900e+04</td>\n",
       "      <td>2.727600e+04</td>\n",
       "      <td>2.726300e+04</td>\n",
       "      <td>2.726900e+04</td>\n",
       "      <td>3.035527e+00</td>\n",
       "    </tr>\n",
       "    <tr>\n",
       "      <th>max</th>\n",
       "      <td>1.745974e+09</td>\n",
       "      <td>1.091110e+05</td>\n",
       "      <td>1.093560e+05</td>\n",
       "      <td>1.087940e+05</td>\n",
       "      <td>1.090360e+05</td>\n",
       "      <td>5.853852e+03</td>\n",
       "    </tr>\n",
       "  </tbody>\n",
       "</table>\n",
       "</div>"
      ],
      "text/plain": [
       "          Timestamp          Open          High           Low         Close  \\\n",
       "count  7.008205e+06  7.008205e+06  7.008205e+06  7.008205e+06  7.008205e+06   \n",
       "mean   1.535659e+09  1.737403e+04  1.738098e+04  1.736687e+04  1.737403e+04   \n",
       "std    1.213868e+08  2.401468e+04  2.402270e+04  2.400646e+04  2.401466e+04   \n",
       "min    1.325412e+09  3.800000e+00  3.800000e+00  3.800000e+00  3.800000e+00   \n",
       "25%    1.430535e+09  4.242000e+02  4.243500e+02  4.240300e+02  4.242000e+02   \n",
       "50%    1.535658e+09  6.587830e+03  6.590610e+03  6.584380e+03  6.587800e+03   \n",
       "75%    1.640781e+09  2.726900e+04  2.727600e+04  2.726300e+04  2.726900e+04   \n",
       "max    1.745974e+09  1.091110e+05  1.093560e+05  1.087940e+05  1.090360e+05   \n",
       "\n",
       "             Volume  \n",
       "count  7.008205e+06  \n",
       "mean   5.303707e+00  \n",
       "std    2.252397e+01  \n",
       "min    0.000000e+00  \n",
       "25%    1.814380e-02  \n",
       "50%    4.692601e-01  \n",
       "75%    3.035527e+00  \n",
       "max    5.853852e+03  "
      ]
     },
     "execution_count": 5,
     "metadata": {},
     "output_type": "execute_result"
    }
   ],
   "source": [
    "df.describe()"
   ]
  },
  {
   "cell_type": "code",
   "execution_count": 6,
   "id": "8fd8e798",
   "metadata": {},
   "outputs": [
    {
     "data": {
      "text/plain": [
       "Timestamp         0\n",
       "Open              0\n",
       "High              0\n",
       "Low               0\n",
       "Close             0\n",
       "Volume            0\n",
       "datetime     225925\n",
       "dtype: int64"
      ]
     },
     "execution_count": 6,
     "metadata": {},
     "output_type": "execute_result"
    }
   ],
   "source": [
    "df.isna().sum()"
   ]
  },
  {
   "cell_type": "code",
   "execution_count": 7,
   "id": "8fcb1ecf",
   "metadata": {},
   "outputs": [
    {
     "name": "stdout",
     "output_type": "stream",
     "text": [
      "<class 'pandas.core.frame.DataFrame'>\n",
      "RangeIndex: 7008205 entries, 0 to 7008204\n",
      "Data columns (total 7 columns):\n",
      " #   Column     Dtype              \n",
      "---  ------     -----              \n",
      " 0   Timestamp  float64            \n",
      " 1   Open       float64            \n",
      " 2   High       float64            \n",
      " 3   Low        float64            \n",
      " 4   Close      float64            \n",
      " 5   Volume     float64            \n",
      " 6   datetime   datetime64[ns, UTC]\n",
      "dtypes: datetime64[ns, UTC](1), float64(6)\n",
      "memory usage: 374.3 MB\n"
     ]
    }
   ],
   "source": [
    "df.info()"
   ]
  },
  {
   "cell_type": "code",
   "execution_count": 8,
   "id": "fdfe31f1",
   "metadata": {},
   "outputs": [
    {
     "data": {
      "text/plain": [
       "Timestamp('2025-03-15 00:00:00+0000', tz='UTC')"
      ]
     },
     "execution_count": 8,
     "metadata": {},
     "output_type": "execute_result"
    }
   ],
   "source": [
    "df['datetime'].max()"
   ]
  },
  {
   "cell_type": "code",
   "execution_count": null,
   "id": "3dd3a045",
   "metadata": {},
   "outputs": [],
   "source": []
  },
  {
   "cell_type": "code",
   "execution_count": 9,
   "id": "ef204f42",
   "metadata": {},
   "outputs": [
    {
     "data": {
      "text/plain": [
       "225925"
      ]
     },
     "execution_count": 9,
     "metadata": {},
     "output_type": "execute_result"
    }
   ],
   "source": [
    "# take the missing data\n",
    "df_missing = df[df['datetime'].isna()]\n",
    "df_missing.head()\n",
    "# count the row\n",
    "df_missing.shape[0]"
   ]
  },
  {
   "cell_type": "code",
   "execution_count": 10,
   "id": "7a56158d",
   "metadata": {},
   "outputs": [
    {
     "data": {
      "text/html": [
       "<div>\n",
       "<style scoped>\n",
       "    .dataframe tbody tr th:only-of-type {\n",
       "        vertical-align: middle;\n",
       "    }\n",
       "\n",
       "    .dataframe tbody tr th {\n",
       "        vertical-align: top;\n",
       "    }\n",
       "\n",
       "    .dataframe thead th {\n",
       "        text-align: right;\n",
       "    }\n",
       "</style>\n",
       "<table border=\"1\" class=\"dataframe\">\n",
       "  <thead>\n",
       "    <tr style=\"text-align: right;\">\n",
       "      <th></th>\n",
       "      <th>Timestamp</th>\n",
       "      <th>Open</th>\n",
       "      <th>High</th>\n",
       "      <th>Low</th>\n",
       "      <th>Close</th>\n",
       "      <th>Volume</th>\n",
       "      <th>datetime</th>\n",
       "    </tr>\n",
       "  </thead>\n",
       "  <tbody>\n",
       "    <tr>\n",
       "      <th>1</th>\n",
       "      <td>1.325412e+09</td>\n",
       "      <td>4.58</td>\n",
       "      <td>4.58</td>\n",
       "      <td>4.58</td>\n",
       "      <td>4.58</td>\n",
       "      <td>0.000000</td>\n",
       "      <td>2012-01-01 10:02:00+00:00</td>\n",
       "    </tr>\n",
       "    <tr>\n",
       "      <th>2</th>\n",
       "      <td>1.325412e+09</td>\n",
       "      <td>4.58</td>\n",
       "      <td>4.58</td>\n",
       "      <td>4.58</td>\n",
       "      <td>4.58</td>\n",
       "      <td>0.000000</td>\n",
       "      <td>2012-01-01 10:03:00+00:00</td>\n",
       "    </tr>\n",
       "    <tr>\n",
       "      <th>3</th>\n",
       "      <td>1.325412e+09</td>\n",
       "      <td>4.58</td>\n",
       "      <td>4.58</td>\n",
       "      <td>4.58</td>\n",
       "      <td>4.58</td>\n",
       "      <td>0.000000</td>\n",
       "      <td>2012-01-01 10:04:00+00:00</td>\n",
       "    </tr>\n",
       "    <tr>\n",
       "      <th>4</th>\n",
       "      <td>1.325412e+09</td>\n",
       "      <td>4.58</td>\n",
       "      <td>4.58</td>\n",
       "      <td>4.58</td>\n",
       "      <td>4.58</td>\n",
       "      <td>0.000000</td>\n",
       "      <td>2012-01-01 10:05:00+00:00</td>\n",
       "    </tr>\n",
       "    <tr>\n",
       "      <th>5</th>\n",
       "      <td>1.325412e+09</td>\n",
       "      <td>4.58</td>\n",
       "      <td>4.58</td>\n",
       "      <td>4.58</td>\n",
       "      <td>4.58</td>\n",
       "      <td>0.000000</td>\n",
       "      <td>2012-01-01 10:06:00+00:00</td>\n",
       "    </tr>\n",
       "    <tr>\n",
       "      <th>...</th>\n",
       "      <td>...</td>\n",
       "      <td>...</td>\n",
       "      <td>...</td>\n",
       "      <td>...</td>\n",
       "      <td>...</td>\n",
       "      <td>...</td>\n",
       "      <td>...</td>\n",
       "    </tr>\n",
       "    <tr>\n",
       "      <th>7008200</th>\n",
       "      <td>1.745974e+09</td>\n",
       "      <td>94646.00</td>\n",
       "      <td>94646.00</td>\n",
       "      <td>94645.00</td>\n",
       "      <td>94646.00</td>\n",
       "      <td>0.012497</td>\n",
       "      <td>NaT</td>\n",
       "    </tr>\n",
       "    <tr>\n",
       "      <th>7008201</th>\n",
       "      <td>1.745974e+09</td>\n",
       "      <td>94645.00</td>\n",
       "      <td>94645.00</td>\n",
       "      <td>94535.00</td>\n",
       "      <td>94550.00</td>\n",
       "      <td>0.163483</td>\n",
       "      <td>NaT</td>\n",
       "    </tr>\n",
       "    <tr>\n",
       "      <th>7008202</th>\n",
       "      <td>1.745974e+09</td>\n",
       "      <td>94549.00</td>\n",
       "      <td>94556.00</td>\n",
       "      <td>94520.00</td>\n",
       "      <td>94520.00</td>\n",
       "      <td>0.862617</td>\n",
       "      <td>NaT</td>\n",
       "    </tr>\n",
       "    <tr>\n",
       "      <th>7008203</th>\n",
       "      <td>1.745974e+09</td>\n",
       "      <td>94504.00</td>\n",
       "      <td>94531.00</td>\n",
       "      <td>94504.00</td>\n",
       "      <td>94524.00</td>\n",
       "      <td>0.011822</td>\n",
       "      <td>NaT</td>\n",
       "    </tr>\n",
       "    <tr>\n",
       "      <th>7008204</th>\n",
       "      <td>1.745974e+09</td>\n",
       "      <td>94524.00</td>\n",
       "      <td>94525.00</td>\n",
       "      <td>94467.00</td>\n",
       "      <td>94487.00</td>\n",
       "      <td>0.035781</td>\n",
       "      <td>NaT</td>\n",
       "    </tr>\n",
       "  </tbody>\n",
       "</table>\n",
       "<p>5287791 rows × 7 columns</p>\n",
       "</div>"
      ],
      "text/plain": [
       "            Timestamp      Open      High       Low     Close    Volume  \\\n",
       "1        1.325412e+09      4.58      4.58      4.58      4.58  0.000000   \n",
       "2        1.325412e+09      4.58      4.58      4.58      4.58  0.000000   \n",
       "3        1.325412e+09      4.58      4.58      4.58      4.58  0.000000   \n",
       "4        1.325412e+09      4.58      4.58      4.58      4.58  0.000000   \n",
       "5        1.325412e+09      4.58      4.58      4.58      4.58  0.000000   \n",
       "...               ...       ...       ...       ...       ...       ...   \n",
       "7008200  1.745974e+09  94646.00  94646.00  94645.00  94646.00  0.012497   \n",
       "7008201  1.745974e+09  94645.00  94645.00  94535.00  94550.00  0.163483   \n",
       "7008202  1.745974e+09  94549.00  94556.00  94520.00  94520.00  0.862617   \n",
       "7008203  1.745974e+09  94504.00  94531.00  94504.00  94524.00  0.011822   \n",
       "7008204  1.745974e+09  94524.00  94525.00  94467.00  94487.00  0.035781   \n",
       "\n",
       "                         datetime  \n",
       "1       2012-01-01 10:02:00+00:00  \n",
       "2       2012-01-01 10:03:00+00:00  \n",
       "3       2012-01-01 10:04:00+00:00  \n",
       "4       2012-01-01 10:05:00+00:00  \n",
       "5       2012-01-01 10:06:00+00:00  \n",
       "...                           ...  \n",
       "7008200                       NaT  \n",
       "7008201                       NaT  \n",
       "7008202                       NaT  \n",
       "7008203                       NaT  \n",
       "7008204                       NaT  \n",
       "\n",
       "[5287791 rows x 7 columns]"
      ]
     },
     "execution_count": 10,
     "metadata": {},
     "output_type": "execute_result"
    }
   ],
   "source": [
    "df[df['Close'].duplicated()]"
   ]
  },
  {
   "cell_type": "code",
   "execution_count": 11,
   "id": "935f96e6",
   "metadata": {},
   "outputs": [
    {
     "data": {
      "text/plain": [
       "Timestamp    0\n",
       "Open         0\n",
       "High         0\n",
       "Low          0\n",
       "Close        0\n",
       "Volume       0\n",
       "datetime     0\n",
       "dtype: int64"
      ]
     },
     "execution_count": 11,
     "metadata": {},
     "output_type": "execute_result"
    }
   ],
   "source": [
    "df.isna().sum()\n",
    "df.dropna(inplace=True)\n",
    "df.isna().sum()"
   ]
  },
  {
   "cell_type": "markdown",
   "id": "bab1916c",
   "metadata": {},
   "source": [
    "### Make new daily data"
   ]
  },
  {
   "cell_type": "code",
   "execution_count": 12,
   "id": "16263fba",
   "metadata": {},
   "outputs": [],
   "source": [
    "df_daily =  df.resample('D', on='datetime').agg({\n",
    "    'High': 'max',\n",
    "    'Low': 'min',\n",
    "    'Volume': 'sum',\n",
    "    'Open': 'first',\n",
    "    'Close': 'last',}).reset_index()"
   ]
  },
  {
   "cell_type": "code",
   "execution_count": 13,
   "id": "5f4380ca",
   "metadata": {},
   "outputs": [
    {
     "data": {
      "text/plain": [
       "np.int64(0)"
      ]
     },
     "execution_count": 13,
     "metadata": {},
     "output_type": "execute_result"
    }
   ],
   "source": [
    "df_daily.duplicated(subset=['datetime']).sum()"
   ]
  },
  {
   "cell_type": "code",
   "execution_count": 14,
   "id": "70e02570",
   "metadata": {},
   "outputs": [
    {
     "data": {
      "text/plain": [
       "datetime    0\n",
       "High        0\n",
       "Low         0\n",
       "Volume      0\n",
       "Open        0\n",
       "Close       0\n",
       "dtype: int64"
      ]
     },
     "execution_count": 14,
     "metadata": {},
     "output_type": "execute_result"
    }
   ],
   "source": [
    "df_daily.isna().sum()"
   ]
  },
  {
   "cell_type": "code",
   "execution_count": 15,
   "id": "38c97479",
   "metadata": {},
   "outputs": [],
   "source": [
    "# change datetime to date\n",
    "df_daily['datetime'] = df_daily['datetime'].dt.date\n",
    "df_daily['datetime'] = pd.to_datetime(df_daily['datetime'])"
   ]
  },
  {
   "cell_type": "code",
   "execution_count": 23,
   "id": "c002700b",
   "metadata": {},
   "outputs": [
    {
     "data": {
      "text/plain": [
       "Timestamp('2025-03-15 00:00:00')"
      ]
     },
     "execution_count": 23,
     "metadata": {},
     "output_type": "execute_result"
    }
   ],
   "source": [
    "df['datetime'] = df['datetime'].dt.date\n",
    "df['datetime'] = pd.to_datetime(df['datetime'])"
   ]
  },
  {
   "cell_type": "markdown",
   "id": "cb731a1b",
   "metadata": {},
   "source": [
    "## Data Visualization"
   ]
  },
  {
   "cell_type": "code",
   "execution_count": 16,
   "id": "7a2b43d7",
   "metadata": {},
   "outputs": [],
   "source": [
    "#plt.figure(figsize=(20, 10))\n",
    "#plt.plot(df['datetime'], df['Close'], label='Close Price', linewidth=1)\n",
    "#plt.title('BTC/USD Close Price in minutes')"
   ]
  },
  {
   "cell_type": "code",
   "execution_count": 17,
   "id": "b8f33469",
   "metadata": {},
   "outputs": [
    {
     "data": {
      "text/plain": [
       "Text(0.5, 1.0, 'BTC/USD Close Price in days')"
      ]
     },
     "execution_count": 17,
     "metadata": {},
     "output_type": "execute_result"
    },
    {
     "data": {
      "image/png": "[encoded data removed]",
      "text/plain": [
       "<Figure size 2000x1000 with 1 Axes>"
      ]
     },
     "metadata": {},
     "output_type": "display_data"
    }
   ],
   "source": [
    "plt.figure(figsize=(20, 10))\n",
    "plt.plot(df_daily['datetime'], df_daily['Close'], label='Close Price', linewidth=1)\n",
    "plt.title('BTC/USD Close Price in days')"
   ]
  },
  {
   "cell_type": "code",
   "execution_count": 18,
   "id": "5de267ec",
   "metadata": {},
   "outputs": [
    {
     "data": {
      "text/html": [
       "<div>\n",
       "<style scoped>\n",
       "    .dataframe tbody tr th:only-of-type {\n",
       "        vertical-align: middle;\n",
       "    }\n",
       "\n",
       "    .dataframe tbody tr th {\n",
       "        vertical-align: top;\n",
       "    }\n",
       "\n",
       "    .dataframe thead th {\n",
       "        text-align: right;\n",
       "    }\n",
       "</style>\n",
       "<table border=\"1\" class=\"dataframe\">\n",
       "  <thead>\n",
       "    <tr style=\"text-align: right;\">\n",
       "      <th></th>\n",
       "      <th>datetime</th>\n",
       "      <th>High</th>\n",
       "      <th>Low</th>\n",
       "      <th>Volume</th>\n",
       "      <th>Open</th>\n",
       "      <th>Close</th>\n",
       "    </tr>\n",
       "  </thead>\n",
       "  <tbody>\n",
       "    <tr>\n",
       "      <th>0</th>\n",
       "      <td>2012-01-01</td>\n",
       "      <td>4.84</td>\n",
       "      <td>4.58</td>\n",
       "      <td>10.000000</td>\n",
       "      <td>4.58</td>\n",
       "      <td>4.84</td>\n",
       "    </tr>\n",
       "    <tr>\n",
       "      <th>1</th>\n",
       "      <td>2012-01-02</td>\n",
       "      <td>5.00</td>\n",
       "      <td>4.84</td>\n",
       "      <td>10.100000</td>\n",
       "      <td>4.84</td>\n",
       "      <td>5.00</td>\n",
       "    </tr>\n",
       "    <tr>\n",
       "      <th>2</th>\n",
       "      <td>2012-01-03</td>\n",
       "      <td>5.32</td>\n",
       "      <td>5.00</td>\n",
       "      <td>107.085281</td>\n",
       "      <td>5.00</td>\n",
       "      <td>5.29</td>\n",
       "    </tr>\n",
       "    <tr>\n",
       "      <th>3</th>\n",
       "      <td>2012-01-04</td>\n",
       "      <td>5.57</td>\n",
       "      <td>4.93</td>\n",
       "      <td>107.233260</td>\n",
       "      <td>5.29</td>\n",
       "      <td>5.57</td>\n",
       "    </tr>\n",
       "    <tr>\n",
       "      <th>4</th>\n",
       "      <td>2012-01-05</td>\n",
       "      <td>6.46</td>\n",
       "      <td>5.57</td>\n",
       "      <td>70.328742</td>\n",
       "      <td>5.57</td>\n",
       "      <td>6.42</td>\n",
       "    </tr>\n",
       "    <tr>\n",
       "      <th>...</th>\n",
       "      <td>...</td>\n",
       "      <td>...</td>\n",
       "      <td>...</td>\n",
       "      <td>...</td>\n",
       "      <td>...</td>\n",
       "      <td>...</td>\n",
       "    </tr>\n",
       "    <tr>\n",
       "      <th>4818</th>\n",
       "      <td>2025-03-11</td>\n",
       "      <td>78818.00</td>\n",
       "      <td>78576.00</td>\n",
       "      <td>24.694112</td>\n",
       "      <td>78599.00</td>\n",
       "      <td>78763.00</td>\n",
       "    </tr>\n",
       "    <tr>\n",
       "      <th>4819</th>\n",
       "      <td>2025-03-12</td>\n",
       "      <td>84437.00</td>\n",
       "      <td>80607.00</td>\n",
       "      <td>1914.379561</td>\n",
       "      <td>81543.00</td>\n",
       "      <td>83620.00</td>\n",
       "    </tr>\n",
       "    <tr>\n",
       "      <th>4820</th>\n",
       "      <td>2025-03-13</td>\n",
       "      <td>83677.00</td>\n",
       "      <td>83677.00</td>\n",
       "      <td>0.000533</td>\n",
       "      <td>83677.00</td>\n",
       "      <td>83677.00</td>\n",
       "    </tr>\n",
       "    <tr>\n",
       "      <th>4821</th>\n",
       "      <td>2025-03-14</td>\n",
       "      <td>85294.00</td>\n",
       "      <td>82006.00</td>\n",
       "      <td>1741.192151</td>\n",
       "      <td>82006.00</td>\n",
       "      <td>83975.00</td>\n",
       "    </tr>\n",
       "    <tr>\n",
       "      <th>4822</th>\n",
       "      <td>2025-03-15</td>\n",
       "      <td>84059.00</td>\n",
       "      <td>83984.00</td>\n",
       "      <td>0.729731</td>\n",
       "      <td>83984.00</td>\n",
       "      <td>84042.00</td>\n",
       "    </tr>\n",
       "  </tbody>\n",
       "</table>\n",
       "<p>4823 rows × 6 columns</p>\n",
       "</div>"
      ],
      "text/plain": [
       "       datetime      High       Low       Volume      Open     Close\n",
       "0    2012-01-01      4.84      4.58    10.000000      4.58      4.84\n",
       "1    2012-01-02      5.00      4.84    10.100000      4.84      5.00\n",
       "2    2012-01-03      5.32      5.00   107.085281      5.00      5.29\n",
       "3    2012-01-04      5.57      4.93   107.233260      5.29      5.57\n",
       "4    2012-01-05      6.46      5.57    70.328742      5.57      6.42\n",
       "...         ...       ...       ...          ...       ...       ...\n",
       "4818 2025-03-11  78818.00  78576.00    24.694112  78599.00  78763.00\n",
       "4819 2025-03-12  84437.00  80607.00  1914.379561  81543.00  83620.00\n",
       "4820 2025-03-13  83677.00  83677.00     0.000533  83677.00  83677.00\n",
       "4821 2025-03-14  85294.00  82006.00  1741.192151  82006.00  83975.00\n",
       "4822 2025-03-15  84059.00  83984.00     0.729731  83984.00  84042.00\n",
       "\n",
       "[4823 rows x 6 columns]"
      ]
     },
     "execution_count": 18,
     "metadata": {},
     "output_type": "execute_result"
    }
   ],
   "source": [
    "df_daily"
   ]
  }
 ],
 "metadata": {
  "kernelspec": {
   "display_name": "Python 3",
   "language": "python",
   "name": "python3"
  },
  "language_info": {
   "codemirror_mode": {
    "name": "ipython",
    "version": 3
   },
   "file_extension": ".py",
   "mimetype": "text/x-python",
   "name": "python",
   "nbconvert_exporter": "python",
   "pygments_lexer": "ipython3",
   "version": "3.11.9"
  }
 },
 "nbformat": 4,
 "nbformat_minor": 5
}
