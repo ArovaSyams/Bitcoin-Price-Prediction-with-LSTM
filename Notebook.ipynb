{
 "cells": [
  {
   "cell_type": "markdown",
   "id": "4a219f35",
   "metadata": {},
   "source": [
    "# Project Data Science: Bitcoin Price Prediction"
   ]
  },
  {
   "cell_type": "markdown",
   "id": "457847d5",
   "metadata": {},
   "source": [
    "## 1. Introduction\n",
    "In this day AI have a significant impact almost in our life and work place, and for this field we will leveraging ai in sequential data development. In this Data Science Project we will do some research about BTCUSD consolidation price with Deep Learning Neural Network LSTM method using PyTorch library\n",
    "### 1. 1 Project Objective\n",
    "The main objective is to predict BTC price until the next months with LSTM (Long Short Term Memory) method\n",
    "### 1. 2 Dataset Description\n",
    "`BTC-USD.csv` is the name of the dataset, which was taken from the Kaggle Dataset and has seven columns: `Date, Open,High, Low, Close, Adj Close, Volume`. The data is a compilation of the price of Bitcoin from 2014 until early 2024, which is a changes every minute. "
   ]
  },
  {
   "cell_type": "markdown",
   "id": "4e581fdc",
   "metadata": {},
   "source": [
    "## 2. Data Preparation\n"
   ]
  },
  {
   "cell_type": "markdown",
   "id": "21f28801",
   "metadata": {},
   "source": [
    "### 2.1 Importing Libraries"
   ]
  },
  {
   "cell_type": "code",
   "execution_count": 1,
   "id": "5b6aad70",
   "metadata": {},
   "outputs": [],
   "source": [
    "import pandas as pd\n",
    "import numpy as np\n",
    "import matplotlib.pyplot as plt\n",
    "import seaborn as sns\n",
    "\n",
    "plt.style.use('ggplot')"
   ]
  },
  {
   "cell_type": "markdown",
   "id": "52dc06e6",
   "metadata": {},
   "source": [
    "### 2.2 Loading the Dataset"
   ]
  },
  {
   "cell_type": "code",
   "execution_count": 38,
   "id": "3028d126",
   "metadata": {},
   "outputs": [],
   "source": [
    "df = pd.read_csv('BTC-USD.csv', parse_dates=['Date'])"
   ]
  },
  {
   "cell_type": "markdown",
   "id": "e0331bf0",
   "metadata": {},
   "source": [
    "### 2.3 Initial Data Exploration"
   ]
  },
  {
   "cell_type": "code",
   "execution_count": 41,
   "id": "e46ec19b",
   "metadata": {},
   "outputs": [
    {
     "data": {
      "text/html": [
       "<div>\n",
       "<style scoped>\n",
       "    .dataframe tbody tr th:only-of-type {\n",
       "        vertical-align: middle;\n",
       "    }\n",
       "\n",
       "    .dataframe tbody tr th {\n",
       "        vertical-align: top;\n",
       "    }\n",
       "\n",
       "    .dataframe thead th {\n",
       "        text-align: right;\n",
       "    }\n",
       "</style>\n",
       "<table border=\"1\" class=\"dataframe\">\n",
       "  <thead>\n",
       "    <tr style=\"text-align: right;\">\n",
       "      <th></th>\n",
       "      <th>Date</th>\n",
       "      <th>Open</th>\n",
       "      <th>High</th>\n",
       "      <th>Low</th>\n",
       "      <th>Close</th>\n",
       "      <th>Adj Close</th>\n",
       "      <th>Volume</th>\n",
       "    </tr>\n",
       "  </thead>\n",
       "  <tbody>\n",
       "    <tr>\n",
       "      <th>0</th>\n",
       "      <td>2014-09-18</td>\n",
       "      <td>456.859985</td>\n",
       "      <td>456.859985</td>\n",
       "      <td>413.104004</td>\n",
       "      <td>424.440002</td>\n",
       "      <td>424.440002</td>\n",
       "      <td>34483200.0</td>\n",
       "    </tr>\n",
       "    <tr>\n",
       "      <th>1</th>\n",
       "      <td>2014-09-19</td>\n",
       "      <td>424.102997</td>\n",
       "      <td>427.834991</td>\n",
       "      <td>384.532013</td>\n",
       "      <td>394.795990</td>\n",
       "      <td>394.795990</td>\n",
       "      <td>37919700.0</td>\n",
       "    </tr>\n",
       "    <tr>\n",
       "      <th>2</th>\n",
       "      <td>2014-09-20</td>\n",
       "      <td>394.673004</td>\n",
       "      <td>423.295990</td>\n",
       "      <td>389.882996</td>\n",
       "      <td>408.903992</td>\n",
       "      <td>408.903992</td>\n",
       "      <td>36863600.0</td>\n",
       "    </tr>\n",
       "    <tr>\n",
       "      <th>3</th>\n",
       "      <td>2014-09-21</td>\n",
       "      <td>408.084991</td>\n",
       "      <td>412.425995</td>\n",
       "      <td>393.181000</td>\n",
       "      <td>398.821014</td>\n",
       "      <td>398.821014</td>\n",
       "      <td>26580100.0</td>\n",
       "    </tr>\n",
       "    <tr>\n",
       "      <th>4</th>\n",
       "      <td>2014-09-22</td>\n",
       "      <td>399.100006</td>\n",
       "      <td>406.915985</td>\n",
       "      <td>397.130005</td>\n",
       "      <td>402.152008</td>\n",
       "      <td>402.152008</td>\n",
       "      <td>24127600.0</td>\n",
       "    </tr>\n",
       "  </tbody>\n",
       "</table>\n",
       "</div>"
      ],
      "text/plain": [
       "        Date        Open        High         Low       Close   Adj Close  \\\n",
       "0 2014-09-18  456.859985  456.859985  413.104004  424.440002  424.440002   \n",
       "1 2014-09-19  424.102997  427.834991  384.532013  394.795990  394.795990   \n",
       "2 2014-09-20  394.673004  423.295990  389.882996  408.903992  408.903992   \n",
       "3 2014-09-21  408.084991  412.425995  393.181000  398.821014  398.821014   \n",
       "4 2014-09-22  399.100006  406.915985  397.130005  402.152008  402.152008   \n",
       "\n",
       "       Volume  \n",
       "0  34483200.0  \n",
       "1  37919700.0  \n",
       "2  36863600.0  \n",
       "3  26580100.0  \n",
       "4  24127600.0  "
      ]
     },
     "execution_count": 41,
     "metadata": {},
     "output_type": "execute_result"
    }
   ],
   "source": [
    "# get 5 first data\n",
    "df.head()"
   ]
  },
  {
   "cell_type": "code",
   "execution_count": 45,
   "id": "e9b2bf86",
   "metadata": {},
   "outputs": [
    {
     "name": "stdout",
     "output_type": "stream",
     "text": [
      "<class 'pandas.core.frame.DataFrame'>\n",
      "RangeIndex: 3413 entries, 0 to 3412\n",
      "Data columns (total 7 columns):\n",
      " #   Column     Non-Null Count  Dtype         \n",
      "---  ------     --------------  -----         \n",
      " 0   Date       3413 non-null   datetime64[ns]\n",
      " 1   Open       3412 non-null   float64       \n",
      " 2   High       3412 non-null   float64       \n",
      " 3   Low        3412 non-null   float64       \n",
      " 4   Close      3412 non-null   float64       \n",
      " 5   Adj Close  3412 non-null   float64       \n",
      " 6   Volume     3412 non-null   float64       \n",
      "dtypes: datetime64[ns](1), float64(6)\n",
      "memory usage: 186.8 KB\n"
     ]
    }
   ],
   "source": [
    "# get data information\n",
    "df.info()"
   ]
  },
  {
   "cell_type": "code",
   "execution_count": 46,
   "id": "24f8493e",
   "metadata": {},
   "outputs": [
    {
     "data": {
      "text/html": [
       "<div>\n",
       "<style scoped>\n",
       "    .dataframe tbody tr th:only-of-type {\n",
       "        vertical-align: middle;\n",
       "    }\n",
       "\n",
       "    .dataframe tbody tr th {\n",
       "        vertical-align: top;\n",
       "    }\n",
       "\n",
       "    .dataframe thead th {\n",
       "        text-align: right;\n",
       "    }\n",
       "</style>\n",
       "<table border=\"1\" class=\"dataframe\">\n",
       "  <thead>\n",
       "    <tr style=\"text-align: right;\">\n",
       "      <th></th>\n",
       "      <th>Date</th>\n",
       "      <th>Open</th>\n",
       "      <th>High</th>\n",
       "      <th>Low</th>\n",
       "      <th>Close</th>\n",
       "      <th>Adj Close</th>\n",
       "      <th>Volume</th>\n",
       "    </tr>\n",
       "  </thead>\n",
       "  <tbody>\n",
       "    <tr>\n",
       "      <th>count</th>\n",
       "      <td>3413</td>\n",
       "      <td>3412.000000</td>\n",
       "      <td>3412.000000</td>\n",
       "      <td>3412.000000</td>\n",
       "      <td>3412.000000</td>\n",
       "      <td>3412.000000</td>\n",
       "      <td>3.412000e+03</td>\n",
       "    </tr>\n",
       "    <tr>\n",
       "      <th>mean</th>\n",
       "      <td>2019-05-21 00:00:00.000000256</td>\n",
       "      <td>14747.360368</td>\n",
       "      <td>15091.809098</td>\n",
       "      <td>14376.126435</td>\n",
       "      <td>14758.111980</td>\n",
       "      <td>14758.111980</td>\n",
       "      <td>1.663026e+10</td>\n",
       "    </tr>\n",
       "    <tr>\n",
       "      <th>min</th>\n",
       "      <td>2014-09-18 00:00:00</td>\n",
       "      <td>176.897003</td>\n",
       "      <td>211.731003</td>\n",
       "      <td>171.509995</td>\n",
       "      <td>178.102997</td>\n",
       "      <td>178.102997</td>\n",
       "      <td>5.914570e+06</td>\n",
       "    </tr>\n",
       "    <tr>\n",
       "      <th>25%</th>\n",
       "      <td>2017-01-18 00:00:00</td>\n",
       "      <td>921.790009</td>\n",
       "      <td>935.210266</td>\n",
       "      <td>908.876495</td>\n",
       "      <td>921.739258</td>\n",
       "      <td>921.739258</td>\n",
       "      <td>1.685530e+08</td>\n",
       "    </tr>\n",
       "    <tr>\n",
       "      <th>50%</th>\n",
       "      <td>2019-05-21 00:00:00</td>\n",
       "      <td>8288.819824</td>\n",
       "      <td>8464.720703</td>\n",
       "      <td>8108.011475</td>\n",
       "      <td>8285.438965</td>\n",
       "      <td>8285.438965</td>\n",
       "      <td>1.176004e+10</td>\n",
       "    </tr>\n",
       "    <tr>\n",
       "      <th>75%</th>\n",
       "      <td>2021-09-20 00:00:00</td>\n",
       "      <td>24345.831543</td>\n",
       "      <td>24986.300293</td>\n",
       "      <td>23907.724610</td>\n",
       "      <td>24382.675293</td>\n",
       "      <td>24382.675293</td>\n",
       "      <td>2.697648e+10</td>\n",
       "    </tr>\n",
       "    <tr>\n",
       "      <th>max</th>\n",
       "      <td>2024-01-21 00:00:00</td>\n",
       "      <td>67549.734375</td>\n",
       "      <td>68789.625000</td>\n",
       "      <td>66382.062500</td>\n",
       "      <td>67566.828125</td>\n",
       "      <td>67566.828125</td>\n",
       "      <td>3.509679e+11</td>\n",
       "    </tr>\n",
       "    <tr>\n",
       "      <th>std</th>\n",
       "      <td>NaN</td>\n",
       "      <td>16293.633702</td>\n",
       "      <td>16683.948248</td>\n",
       "      <td>15855.901350</td>\n",
       "      <td>16295.374063</td>\n",
       "      <td>16295.374063</td>\n",
       "      <td>1.907607e+10</td>\n",
       "    </tr>\n",
       "  </tbody>\n",
       "</table>\n",
       "</div>"
      ],
      "text/plain": [
       "                                Date          Open          High  \\\n",
       "count                           3413   3412.000000   3412.000000   \n",
       "mean   2019-05-21 00:00:00.000000256  14747.360368  15091.809098   \n",
       "min              2014-09-18 00:00:00    176.897003    211.731003   \n",
       "25%              2017-01-18 00:00:00    921.790009    935.210266   \n",
       "50%              2019-05-21 00:00:00   8288.819824   8464.720703   \n",
       "75%              2021-09-20 00:00:00  24345.831543  24986.300293   \n",
       "max              2024-01-21 00:00:00  67549.734375  68789.625000   \n",
       "std                              NaN  16293.633702  16683.948248   \n",
       "\n",
       "                Low         Close     Adj Close        Volume  \n",
       "count   3412.000000   3412.000000   3412.000000  3.412000e+03  \n",
       "mean   14376.126435  14758.111980  14758.111980  1.663026e+10  \n",
       "min      171.509995    178.102997    178.102997  5.914570e+06  \n",
       "25%      908.876495    921.739258    921.739258  1.685530e+08  \n",
       "50%     8108.011475   8285.438965   8285.438965  1.176004e+10  \n",
       "75%    23907.724610  24382.675293  24382.675293  2.697648e+10  \n",
       "max    66382.062500  67566.828125  67566.828125  3.509679e+11  \n",
       "std    15855.901350  16295.374063  16295.374063  1.907607e+10  "
      ]
     },
     "execution_count": 46,
     "metadata": {},
     "output_type": "execute_result"
    }
   ],
   "source": [
    "# to know mean, max, min, std, 25%, 50%, 75% of each column\n",
    "df.describe()"
   ]
  },
  {
   "cell_type": "markdown",
   "id": "56909303",
   "metadata": {},
   "source": [
    "## 3. Data Cleaning"
   ]
  },
  {
   "cell_type": "markdown",
   "id": "71957b4e",
   "metadata": {},
   "source": [
    "### 3.1 Handling Missing Values"
   ]
  },
  {
   "cell_type": "code",
   "execution_count": 47,
   "id": "df619ac2",
   "metadata": {},
   "outputs": [
    {
     "data": {
      "text/plain": [
       "Date         0\n",
       "Open         1\n",
       "High         1\n",
       "Low          1\n",
       "Close        1\n",
       "Adj Close    1\n",
       "Volume       1\n",
       "dtype: int64"
      ]
     },
     "execution_count": 47,
     "metadata": {},
     "output_type": "execute_result"
    }
   ],
   "source": [
    "#find missing valuee\n",
    "df.isnull().sum()"
   ]
  },
  {
   "cell_type": "code",
   "execution_count": 48,
   "id": "41f21639",
   "metadata": {},
   "outputs": [
    {
     "data": {
      "text/plain": [
       "Date         0\n",
       "Open         0\n",
       "High         0\n",
       "Low          0\n",
       "Close        0\n",
       "Adj Close    0\n",
       "Volume       0\n",
       "dtype: int64"
      ]
     },
     "execution_count": 48,
     "metadata": {},
     "output_type": "execute_result"
    }
   ],
   "source": [
    "# drop all missing values\n",
    "df.dropna(inplace=True)\n",
    "# check again\n",
    "df.isnull().sum()"
   ]
  },
  {
   "cell_type": "markdown",
   "id": "7a9fa263",
   "metadata": {},
   "source": [
    "### 3.2 Removing Duplicate Values"
   ]
  },
  {
   "cell_type": "code",
   "execution_count": 51,
   "id": "1142ed84",
   "metadata": {},
   "outputs": [
    {
     "data": {
      "text/plain": [
       "np.int64(0)"
      ]
     },
     "execution_count": 51,
     "metadata": {},
     "output_type": "execute_result"
    }
   ],
   "source": [
    "# check duplicate values without Timestamp column\n",
    "df.duplicated().sum()\n"
   ]
  },
  {
   "cell_type": "markdown",
   "id": "dd3767cc",
   "metadata": {},
   "source": [
    "## 4. Exploratory Data Analysis (EDA)"
   ]
  }
 ],
 "metadata": {
  "kernelspec": {
   "display_name": "Python 3",
   "language": "python",
   "name": "python3"
  },
  "language_info": {
   "codemirror_mode": {
    "name": "ipython",
    "version": 3
   },
   "file_extension": ".py",
   "mimetype": "text/x-python",
   "name": "python",
   "nbconvert_exporter": "python",
   "pygments_lexer": "ipython3",
   "version": "3.11.9"
  }
 },
 "nbformat": 4,
 "nbformat_minor": 5
}
