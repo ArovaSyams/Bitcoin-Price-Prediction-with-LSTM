{
 "cells": [
  {
   "cell_type": "markdown",
   "id": "4a219f35",
   "metadata": {},
   "source": [
    "# Project Data Science: Bitcoin Price Prediction"
   ]
  },
  {
   "cell_type": "markdown",
   "id": "457847d5",
   "metadata": {},
   "source": [
    "## 1. Introduction\n",
    "In this day AI have a significant impact almost in our life and work place, and for this field we will leveraging ai in sequential data development. In this Data Science Project we will do some research about BTCUSD consolidation price with Deep Learning Neural Network LSTM method using PyTorch library\n",
    "### 1. 1 Project Objective\n",
    "The main objective is to predict BTC price until the next months with LSTM (Long Short Term Memory) method\n",
    "### 1. 2 Dataset Description\n",
    "`btcusd_1-min_data` is the name of the dataset, which was taken from the Kaggle Dataset source: https://www.kaggle.com/datasets/mczielinski/bitcoin-historical-data and has seven columns: `Timestamps, Open, Close, Min, Max, Datetime`. The data is a compilation of the price of Bitcoin from 2012 until early 2025, which is a changes every minute."
   ]
  }
 ],
 "metadata": {
  "kernelspec": {
   "display_name": "Python 3",
   "language": "python",
   "name": "python3"
  },
  "language_info": {
   "name": "python",
   "version": "3.11.9"
  }
 },
 "nbformat": 4,
 "nbformat_minor": 5
}
