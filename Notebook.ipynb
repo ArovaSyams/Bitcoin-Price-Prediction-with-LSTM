{
 "cells": [
  {
   "cell_type": "markdown",
   "id": "4a219f35",
   "metadata": {},
   "source": [
    "# Project Data Science: Bitcoin Price Prediction"
   ]
  },
  {
   "cell_type": "markdown",
   "id": "457847d5",
   "metadata": {},
   "source": [
    "## 1. Introduction\n",
    "In this day AI have a significant impact almost in our life and work place, and for this field we will leveraging ai in sequential data development. In this Data Science Project we will do some research about BTCUSD consolidation price with Deep Learning Neural Network LSTM method using PyTorch library\n",
    "### 1. 1 Project Objective\n",
    "The main objective is to predict BTC price until the next months with LSTM (Long Short Term Memory) method\n",
    "### 1. 2 Dataset Description\n",
    "`btcusd_1-min_data` is the name of the dataset, which was taken from the Kaggle Dataset source: https://www.kaggle.com/datasets/mczielinski/bitcoin-historical-data and has seven columns: `Timestamps, Open, Close, Min, Max, Datetime`. The data is a compilation of the price of Bitcoin from 2012 until early 2025, which is a changes every minute. "
   ]
  },
  {
   "cell_type": "markdown",
   "id": "4e581fdc",
   "metadata": {},
   "source": [
    "## 2. Data Preparation\n"
   ]
  },
  {
   "cell_type": "markdown",
   "id": "21f28801",
   "metadata": {},
   "source": [
    "### 2.1 Importing Libraries"
   ]
  },
  {
   "cell_type": "code",
   "execution_count": 1,
   "id": "5b6aad70",
   "metadata": {},
   "outputs": [],
   "source": [
    "import pandas as pd\n",
    "import numpy as np\n",
    "import matplotlib.pyplot as plt\n",
    "import seaborn as sns\n",
    "\n",
    "plt.style.use('ggplot')"
   ]
  },
  {
   "cell_type": "markdown",
   "id": "52dc06e6",
   "metadata": {},
   "source": [
    "### 2.2 Loading the Dataset"
   ]
  },
  {
   "cell_type": "code",
   "execution_count": 6,
   "id": "3028d126",
   "metadata": {},
   "outputs": [],
   "source": [
    "df = pd.read_csv('btcusd_1-min_data.csv', parse_dates=['datetime'])"
   ]
  },
  {
   "cell_type": "markdown",
   "id": "e0331bf0",
   "metadata": {},
   "source": [
    "### 2.3 Initial Data Exploration"
   ]
  },
  {
   "cell_type": "code",
   "execution_count": 11,
   "id": "e46ec19b",
   "metadata": {},
   "outputs": [
    {
     "data": {
      "text/html": [
       "<div>\n",
       "<style scoped>\n",
       "    .dataframe tbody tr th:only-of-type {\n",
       "        vertical-align: middle;\n",
       "    }\n",
       "\n",
       "    .dataframe tbody tr th {\n",
       "        vertical-align: top;\n",
       "    }\n",
       "\n",
       "    .dataframe thead th {\n",
       "        text-align: right;\n",
       "    }\n",
       "</style>\n",
       "<table border=\"1\" class=\"dataframe\">\n",
       "  <thead>\n",
       "    <tr style=\"text-align: right;\">\n",
       "      <th></th>\n",
       "      <th>Timestamp</th>\n",
       "      <th>Open</th>\n",
       "      <th>High</th>\n",
       "      <th>Low</th>\n",
       "      <th>Close</th>\n",
       "      <th>Volume</th>\n",
       "      <th>datetime</th>\n",
       "    </tr>\n",
       "  </thead>\n",
       "  <tbody>\n",
       "    <tr>\n",
       "      <th>0</th>\n",
       "      <td>1.325412e+09</td>\n",
       "      <td>4.58</td>\n",
       "      <td>4.58</td>\n",
       "      <td>4.58</td>\n",
       "      <td>4.58</td>\n",
       "      <td>0.0</td>\n",
       "      <td>2012-01-01 10:01:00+00:00</td>\n",
       "    </tr>\n",
       "    <tr>\n",
       "      <th>1</th>\n",
       "      <td>1.325412e+09</td>\n",
       "      <td>4.58</td>\n",
       "      <td>4.58</td>\n",
       "      <td>4.58</td>\n",
       "      <td>4.58</td>\n",
       "      <td>0.0</td>\n",
       "      <td>2012-01-01 10:02:00+00:00</td>\n",
       "    </tr>\n",
       "    <tr>\n",
       "      <th>2</th>\n",
       "      <td>1.325412e+09</td>\n",
       "      <td>4.58</td>\n",
       "      <td>4.58</td>\n",
       "      <td>4.58</td>\n",
       "      <td>4.58</td>\n",
       "      <td>0.0</td>\n",
       "      <td>2012-01-01 10:03:00+00:00</td>\n",
       "    </tr>\n",
       "    <tr>\n",
       "      <th>3</th>\n",
       "      <td>1.325412e+09</td>\n",
       "      <td>4.58</td>\n",
       "      <td>4.58</td>\n",
       "      <td>4.58</td>\n",
       "      <td>4.58</td>\n",
       "      <td>0.0</td>\n",
       "      <td>2012-01-01 10:04:00+00:00</td>\n",
       "    </tr>\n",
       "    <tr>\n",
       "      <th>4</th>\n",
       "      <td>1.325412e+09</td>\n",
       "      <td>4.58</td>\n",
       "      <td>4.58</td>\n",
       "      <td>4.58</td>\n",
       "      <td>4.58</td>\n",
       "      <td>0.0</td>\n",
       "      <td>2012-01-01 10:05:00+00:00</td>\n",
       "    </tr>\n",
       "  </tbody>\n",
       "</table>\n",
       "</div>"
      ],
      "text/plain": [
       "      Timestamp  Open  High   Low  Close  Volume                  datetime\n",
       "0  1.325412e+09  4.58  4.58  4.58   4.58     0.0 2012-01-01 10:01:00+00:00\n",
       "1  1.325412e+09  4.58  4.58  4.58   4.58     0.0 2012-01-01 10:02:00+00:00\n",
       "2  1.325412e+09  4.58  4.58  4.58   4.58     0.0 2012-01-01 10:03:00+00:00\n",
       "3  1.325412e+09  4.58  4.58  4.58   4.58     0.0 2012-01-01 10:04:00+00:00\n",
       "4  1.325412e+09  4.58  4.58  4.58   4.58     0.0 2012-01-01 10:05:00+00:00"
      ]
     },
     "execution_count": 11,
     "metadata": {},
     "output_type": "execute_result"
    }
   ],
   "source": [
    "# get 5 first data\n",
    "df.head()"
   ]
  },
  {
   "cell_type": "code",
   "execution_count": null,
   "id": "e9b2bf86",
   "metadata": {},
   "outputs": [
    {
     "name": "stdout",
     "output_type": "stream",
     "text": [
      "<class 'pandas.core.frame.DataFrame'>\n",
      "RangeIndex: 7008205 entries, 0 to 7008204\n",
      "Data columns (total 7 columns):\n",
      " #   Column     Dtype              \n",
      "---  ------     -----              \n",
      " 0   Timestamp  float64            \n",
      " 1   Open       float64            \n",
      " 2   High       float64            \n",
      " 3   Low        float64            \n",
      " 4   Close      float64            \n",
      " 5   Volume     float64            \n",
      " 6   datetime   datetime64[ns, UTC]\n",
      "dtypes: datetime64[ns, UTC](1), float64(6)\n",
      "memory usage: 374.3 MB\n"
     ]
    }
   ],
   "source": [
    "# get data information\n",
    "df.info()"
   ]
  },
  {
   "cell_type": "code",
   "execution_count": 12,
   "id": "24f8493e",
   "metadata": {},
   "outputs": [
    {
     "data": {
      "text/html": [
       "<div>\n",
       "<style scoped>\n",
       "    .dataframe tbody tr th:only-of-type {\n",
       "        vertical-align: middle;\n",
       "    }\n",
       "\n",
       "    .dataframe tbody tr th {\n",
       "        vertical-align: top;\n",
       "    }\n",
       "\n",
       "    .dataframe thead th {\n",
       "        text-align: right;\n",
       "    }\n",
       "</style>\n",
       "<table border=\"1\" class=\"dataframe\">\n",
       "  <thead>\n",
       "    <tr style=\"text-align: right;\">\n",
       "      <th></th>\n",
       "      <th>Timestamp</th>\n",
       "      <th>Open</th>\n",
       "      <th>High</th>\n",
       "      <th>Low</th>\n",
       "      <th>Close</th>\n",
       "      <th>Volume</th>\n",
       "    </tr>\n",
       "  </thead>\n",
       "  <tbody>\n",
       "    <tr>\n",
       "      <th>count</th>\n",
       "      <td>7.008205e+06</td>\n",
       "      <td>7.008205e+06</td>\n",
       "      <td>7.008205e+06</td>\n",
       "      <td>7.008205e+06</td>\n",
       "      <td>7.008205e+06</td>\n",
       "      <td>7.008205e+06</td>\n",
       "    </tr>\n",
       "    <tr>\n",
       "      <th>mean</th>\n",
       "      <td>1.535659e+09</td>\n",
       "      <td>1.737403e+04</td>\n",
       "      <td>1.738098e+04</td>\n",
       "      <td>1.736687e+04</td>\n",
       "      <td>1.737403e+04</td>\n",
       "      <td>5.303707e+00</td>\n",
       "    </tr>\n",
       "    <tr>\n",
       "      <th>std</th>\n",
       "      <td>1.213868e+08</td>\n",
       "      <td>2.401468e+04</td>\n",
       "      <td>2.402270e+04</td>\n",
       "      <td>2.400646e+04</td>\n",
       "      <td>2.401466e+04</td>\n",
       "      <td>2.252397e+01</td>\n",
       "    </tr>\n",
       "    <tr>\n",
       "      <th>min</th>\n",
       "      <td>1.325412e+09</td>\n",
       "      <td>3.800000e+00</td>\n",
       "      <td>3.800000e+00</td>\n",
       "      <td>3.800000e+00</td>\n",
       "      <td>3.800000e+00</td>\n",
       "      <td>0.000000e+00</td>\n",
       "    </tr>\n",
       "    <tr>\n",
       "      <th>25%</th>\n",
       "      <td>1.430535e+09</td>\n",
       "      <td>4.242000e+02</td>\n",
       "      <td>4.243500e+02</td>\n",
       "      <td>4.240300e+02</td>\n",
       "      <td>4.242000e+02</td>\n",
       "      <td>1.814380e-02</td>\n",
       "    </tr>\n",
       "    <tr>\n",
       "      <th>50%</th>\n",
       "      <td>1.535658e+09</td>\n",
       "      <td>6.587830e+03</td>\n",
       "      <td>6.590610e+03</td>\n",
       "      <td>6.584380e+03</td>\n",
       "      <td>6.587800e+03</td>\n",
       "      <td>4.692601e-01</td>\n",
       "    </tr>\n",
       "    <tr>\n",
       "      <th>75%</th>\n",
       "      <td>1.640781e+09</td>\n",
       "      <td>2.726900e+04</td>\n",
       "      <td>2.727600e+04</td>\n",
       "      <td>2.726300e+04</td>\n",
       "      <td>2.726900e+04</td>\n",
       "      <td>3.035527e+00</td>\n",
       "    </tr>\n",
       "    <tr>\n",
       "      <th>max</th>\n",
       "      <td>1.745974e+09</td>\n",
       "      <td>1.091110e+05</td>\n",
       "      <td>1.093560e+05</td>\n",
       "      <td>1.087940e+05</td>\n",
       "      <td>1.090360e+05</td>\n",
       "      <td>5.853852e+03</td>\n",
       "    </tr>\n",
       "  </tbody>\n",
       "</table>\n",
       "</div>"
      ],
      "text/plain": [
       "          Timestamp          Open          High           Low         Close  \\\n",
       "count  7.008205e+06  7.008205e+06  7.008205e+06  7.008205e+06  7.008205e+06   \n",
       "mean   1.535659e+09  1.737403e+04  1.738098e+04  1.736687e+04  1.737403e+04   \n",
       "std    1.213868e+08  2.401468e+04  2.402270e+04  2.400646e+04  2.401466e+04   \n",
       "min    1.325412e+09  3.800000e+00  3.800000e+00  3.800000e+00  3.800000e+00   \n",
       "25%    1.430535e+09  4.242000e+02  4.243500e+02  4.240300e+02  4.242000e+02   \n",
       "50%    1.535658e+09  6.587830e+03  6.590610e+03  6.584380e+03  6.587800e+03   \n",
       "75%    1.640781e+09  2.726900e+04  2.727600e+04  2.726300e+04  2.726900e+04   \n",
       "max    1.745974e+09  1.091110e+05  1.093560e+05  1.087940e+05  1.090360e+05   \n",
       "\n",
       "             Volume  \n",
       "count  7.008205e+06  \n",
       "mean   5.303707e+00  \n",
       "std    2.252397e+01  \n",
       "min    0.000000e+00  \n",
       "25%    1.814380e-02  \n",
       "50%    4.692601e-01  \n",
       "75%    3.035527e+00  \n",
       "max    5.853852e+03  "
      ]
     },
     "execution_count": 12,
     "metadata": {},
     "output_type": "execute_result"
    }
   ],
   "source": [
    "# to know mean, max, min, std, 25%, 50%, 75% of each column\n",
    "df.describe()"
   ]
  },
  {
   "cell_type": "markdown",
   "id": "56909303",
   "metadata": {},
   "source": [
    "## 3. Data Cleaning"
   ]
  },
  {
   "cell_type": "markdown",
   "id": "71957b4e",
   "metadata": {},
   "source": [
    "### 3.1 Handling Missing Values"
   ]
  },
  {
   "cell_type": "code",
   "execution_count": 13,
   "id": "df619ac2",
   "metadata": {},
   "outputs": [
    {
     "data": {
      "text/plain": [
       "Timestamp         0\n",
       "Open              0\n",
       "High              0\n",
       "Low               0\n",
       "Close             0\n",
       "Volume            0\n",
       "datetime     225925\n",
       "dtype: int64"
      ]
     },
     "execution_count": 13,
     "metadata": {},
     "output_type": "execute_result"
    }
   ],
   "source": [
    "#find missing valuee\n",
    "df.isnull().sum()"
   ]
  },
  {
   "cell_type": "code",
   "execution_count": 14,
   "id": "41f21639",
   "metadata": {},
   "outputs": [
    {
     "data": {
      "text/plain": [
       "Timestamp    0\n",
       "Open         0\n",
       "High         0\n",
       "Low          0\n",
       "Close        0\n",
       "Volume       0\n",
       "datetime     0\n",
       "dtype: int64"
      ]
     },
     "execution_count": 14,
     "metadata": {},
     "output_type": "execute_result"
    }
   ],
   "source": [
    "# drop all missing values\n",
    "df.dropna(inplace=True)\n",
    "# check again\n",
    "df.isnull().sum()"
   ]
  },
  {
   "cell_type": "markdown",
   "id": "7a9fa263",
   "metadata": {},
   "source": [
    "### 3.2 Removing Duplicate Values"
   ]
  },
  {
   "cell_type": "code",
   "execution_count": 19,
   "id": "1142ed84",
   "metadata": {},
   "outputs": [
    {
     "data": {
      "text/plain": [
       "np.int64(0)"
      ]
     },
     "execution_count": 19,
     "metadata": {},
     "output_type": "execute_result"
    }
   ],
   "source": [
    "# check duplicate values without Timestamp column\n",
    "df.iloc[:,1:].duplicated().sum()\n"
   ]
  },
  {
   "cell_type": "markdown",
   "id": "f1c22b35",
   "metadata": {},
   "source": [
    "### 3.3 Change To Daily Dataframe"
   ]
  },
  {
   "cell_type": "code",
   "execution_count": 23,
   "id": "0b53e7a1",
   "metadata": {},
   "outputs": [
    {
     "data": {
      "text/html": [
       "<div>\n",
       "<style scoped>\n",
       "    .dataframe tbody tr th:only-of-type {\n",
       "        vertical-align: middle;\n",
       "    }\n",
       "\n",
       "    .dataframe tbody tr th {\n",
       "        vertical-align: top;\n",
       "    }\n",
       "\n",
       "    .dataframe thead th {\n",
       "        text-align: right;\n",
       "    }\n",
       "</style>\n",
       "<table border=\"1\" class=\"dataframe\">\n",
       "  <thead>\n",
       "    <tr style=\"text-align: right;\">\n",
       "      <th></th>\n",
       "      <th>datetime</th>\n",
       "      <th>Volume</th>\n",
       "      <th>High</th>\n",
       "      <th>Low</th>\n",
       "      <th>Open</th>\n",
       "      <th>Close</th>\n",
       "    </tr>\n",
       "  </thead>\n",
       "  <tbody>\n",
       "    <tr>\n",
       "      <th>0</th>\n",
       "      <td>2012-01-01 00:00:00+00:00</td>\n",
       "      <td>10.000000</td>\n",
       "      <td>4.84</td>\n",
       "      <td>4.58</td>\n",
       "      <td>4.58</td>\n",
       "      <td>4.84</td>\n",
       "    </tr>\n",
       "    <tr>\n",
       "      <th>1</th>\n",
       "      <td>2012-01-02 00:00:00+00:00</td>\n",
       "      <td>10.100000</td>\n",
       "      <td>5.00</td>\n",
       "      <td>4.84</td>\n",
       "      <td>4.84</td>\n",
       "      <td>5.00</td>\n",
       "    </tr>\n",
       "    <tr>\n",
       "      <th>2</th>\n",
       "      <td>2012-01-03 00:00:00+00:00</td>\n",
       "      <td>107.085281</td>\n",
       "      <td>5.32</td>\n",
       "      <td>5.00</td>\n",
       "      <td>5.00</td>\n",
       "      <td>5.29</td>\n",
       "    </tr>\n",
       "    <tr>\n",
       "      <th>3</th>\n",
       "      <td>2012-01-04 00:00:00+00:00</td>\n",
       "      <td>107.233260</td>\n",
       "      <td>5.57</td>\n",
       "      <td>4.93</td>\n",
       "      <td>5.29</td>\n",
       "      <td>5.57</td>\n",
       "    </tr>\n",
       "    <tr>\n",
       "      <th>4</th>\n",
       "      <td>2012-01-05 00:00:00+00:00</td>\n",
       "      <td>70.328742</td>\n",
       "      <td>6.46</td>\n",
       "      <td>5.57</td>\n",
       "      <td>5.57</td>\n",
       "      <td>6.42</td>\n",
       "    </tr>\n",
       "  </tbody>\n",
       "</table>\n",
       "</div>"
      ],
      "text/plain": [
       "                   datetime      Volume  High   Low  Open  Close\n",
       "0 2012-01-01 00:00:00+00:00   10.000000  4.84  4.58  4.58   4.84\n",
       "1 2012-01-02 00:00:00+00:00   10.100000  5.00  4.84  4.84   5.00\n",
       "2 2012-01-03 00:00:00+00:00  107.085281  5.32  5.00  5.00   5.29\n",
       "3 2012-01-04 00:00:00+00:00  107.233260  5.57  4.93  5.29   5.57\n",
       "4 2012-01-05 00:00:00+00:00   70.328742  6.46  5.57  5.57   6.42"
      ]
     },
     "execution_count": 23,
     "metadata": {},
     "output_type": "execute_result"
    }
   ],
   "source": [
    "# change data to daily data \n",
    "df_daily = df.resample('D', on='datetime').agg({\n",
    "    'Volume': 'sum', \n",
    "    'High': 'max', \n",
    "    'Low': 'min', \n",
    "    'Open': 'first', \n",
    "    'Close': 'last'\n",
    "    }).reset_index()\n",
    "df_daily.head()\n"
   ]
  },
  {
   "cell_type": "code",
   "execution_count": null,
   "id": "86f2505d",
   "metadata": {},
   "outputs": [
    {
     "data": {
      "text/html": [
       "<div>\n",
       "<style scoped>\n",
       "    .dataframe tbody tr th:only-of-type {\n",
       "        vertical-align: middle;\n",
       "    }\n",
       "\n",
       "    .dataframe tbody tr th {\n",
       "        vertical-align: top;\n",
       "    }\n",
       "\n",
       "    .dataframe thead th {\n",
       "        text-align: right;\n",
       "    }\n",
       "</style>\n",
       "<table border=\"1\" class=\"dataframe\">\n",
       "  <thead>\n",
       "    <tr style=\"text-align: right;\">\n",
       "      <th></th>\n",
       "      <th>Volume</th>\n",
       "      <th>High</th>\n",
       "      <th>Low</th>\n",
       "      <th>Open</th>\n",
       "      <th>Close</th>\n",
       "      <th>date</th>\n",
       "    </tr>\n",
       "  </thead>\n",
       "  <tbody>\n",
       "    <tr>\n",
       "      <th>0</th>\n",
       "      <td>10.000000</td>\n",
       "      <td>4.84</td>\n",
       "      <td>4.58</td>\n",
       "      <td>4.58</td>\n",
       "      <td>4.84</td>\n",
       "      <td>2012-01-01</td>\n",
       "    </tr>\n",
       "    <tr>\n",
       "      <th>1</th>\n",
       "      <td>10.100000</td>\n",
       "      <td>5.00</td>\n",
       "      <td>4.84</td>\n",
       "      <td>4.84</td>\n",
       "      <td>5.00</td>\n",
       "      <td>2012-01-02</td>\n",
       "    </tr>\n",
       "    <tr>\n",
       "      <th>2</th>\n",
       "      <td>107.085281</td>\n",
       "      <td>5.32</td>\n",
       "      <td>5.00</td>\n",
       "      <td>5.00</td>\n",
       "      <td>5.29</td>\n",
       "      <td>2012-01-03</td>\n",
       "    </tr>\n",
       "    <tr>\n",
       "      <th>3</th>\n",
       "      <td>107.233260</td>\n",
       "      <td>5.57</td>\n",
       "      <td>4.93</td>\n",
       "      <td>5.29</td>\n",
       "      <td>5.57</td>\n",
       "      <td>2012-01-04</td>\n",
       "    </tr>\n",
       "    <tr>\n",
       "      <th>4</th>\n",
       "      <td>70.328742</td>\n",
       "      <td>6.46</td>\n",
       "      <td>5.57</td>\n",
       "      <td>5.57</td>\n",
       "      <td>6.42</td>\n",
       "      <td>2012-01-05</td>\n",
       "    </tr>\n",
       "  </tbody>\n",
       "</table>\n",
       "</div>"
      ],
      "text/plain": [
       "       Volume  High   Low  Open  Close       date\n",
       "0   10.000000  4.84  4.58  4.58   4.84 2012-01-01\n",
       "1   10.100000  5.00  4.84  4.84   5.00 2012-01-02\n",
       "2  107.085281  5.32  5.00  5.00   5.29 2012-01-03\n",
       "3  107.233260  5.57  4.93  5.29   5.57 2012-01-04\n",
       "4   70.328742  6.46  5.57  5.57   6.42 2012-01-05"
      ]
     },
     "execution_count": 29,
     "metadata": {},
     "output_type": "execute_result"
    }
   ],
   "source": [
    "# change datatime data to date and convert to datetime\n",
    "df_daily['date'] = df_daily['datetime'].dt.date\n",
    "df_daily['date'] = pd.to_datetime(df_daily['date'])\n",
    "# drop datetime column\n",
    "df_daily.drop(columns=['datetime'], inplace=True, axis=1)\n",
    "# chech data types\n",
    "df_daily.dtypes\n",
    "# check the first 5 data\n",
    "df_daily.head()"
   ]
  },
  {
   "cell_type": "code",
   "execution_count": 31,
   "id": "2afec5d2",
   "metadata": {},
   "outputs": [
    {
     "data": {
      "text/plain": [
       "(Volume                    0.0\n",
       " High                     4.38\n",
       " Low                       3.8\n",
       " Open                     4.38\n",
       " Close                    4.38\n",
       " date      2012-01-01 00:00:00\n",
       " dtype: object,\n",
       " Volume          127286.486533\n",
       " High                 109030.0\n",
       " Low                  106187.0\n",
       " Open                 108314.0\n",
       " Close                106187.0\n",
       " date      2025-03-15 00:00:00\n",
       " dtype: object)"
      ]
     },
     "execution_count": 31,
     "metadata": {},
     "output_type": "execute_result"
    }
   ],
   "source": [
    "# check min and max of each column\n",
    "df_daily.min(), df_daily.max()"
   ]
  },
  {
   "cell_type": "code",
   "execution_count": 33,
   "id": "dfa5fb14",
   "metadata": {},
   "outputs": [
    {
     "data": {
      "text/plain": [
       "4823"
      ]
     },
     "execution_count": 33,
     "metadata": {},
     "output_type": "execute_result"
    }
   ],
   "source": [
    "# chech total data\n",
    "df_daily.shape[0]"
   ]
  },
  {
   "cell_type": "code",
   "execution_count": 34,
   "id": "e40c4134",
   "metadata": {},
   "outputs": [],
   "source": [
    "# export data to csv file\n",
    "df_daily.to_csv('btcusdt_daily.csv', index=False)"
   ]
  },
  {
   "cell_type": "markdown",
   "id": "dd3767cc",
   "metadata": {},
   "source": [
    "## 4. Exploratory Data Analysis (EDA)"
   ]
  }
 ],
 "metadata": {
  "kernelspec": {
   "display_name": "Python 3",
   "language": "python",
   "name": "python3"
  },
  "language_info": {
   "codemirror_mode": {
    "name": "ipython",
    "version": 3
   },
   "file_extension": ".py",
   "mimetype": "text/x-python",
   "name": "python",
   "nbconvert_exporter": "python",
   "pygments_lexer": "ipython3",
   "version": "3.11.9"
  }
 },
 "nbformat": 4,
 "nbformat_minor": 5
}
